{
 "cells": [
  {
   "cell_type": "code",
   "execution_count": 1,
   "id": "3dc8d043",
   "metadata": {},
   "outputs": [
    {
     "name": "stdout",
     "output_type": "stream",
     "text": [
      " Volume in drive C is OS\n",
      " Volume Serial Number is 56A3-D27C\n",
      "\n",
      " Directory of C:\\Users\\mahen\n",
      "\n",
      "21-02-2023  18:48    <DIR>          .\n",
      "06-02-2023  15:08    <DIR>          ..\n",
      "15-01-2023  10:00    <DIR>          .continuum\n",
      "20-02-2023  20:04                53 .git-for-windows-updater\n",
      "21-02-2023  18:48    <DIR>          .ipynb_checkpoints\n",
      "15-01-2023  09:39    <DIR>          .ipython\n",
      "15-01-2023  09:49    <DIR>          .jupyter\n",
      "15-01-2023  09:39    <DIR>          .matplotlib\n",
      "15-01-2023  11:38    <DIR>          .spyder-py3\n",
      "20-01-2023  12:47    <DIR>          .vscode\n",
      "08-02-2023  19:28             7,028 19th Nov(Python-task-01-main).7z\n",
      "08-02-2023  19:29             7,609 19th Nov(Python-task-01-main).zip\n",
      "18-02-2023  20:12            40,908 26th Nov FSDSbootcamp2.0(Python-task-01-main).zip\n",
      "15-01-2023  08:10    <DIR>          anaconda3\n",
      "25-01-2023  20:41            10,061 Assignment_1.docx\n",
      "01-02-2023  21:30            12,115 AsssigmentNo.1ANS.ipynb\n",
      "22-12-2022  02:52    <DIR>          Contacts\n",
      "25-01-2023  20:18            57,654 demo_003.ipynb\n",
      "06-12-2022  20:28    <DIR>          Documents\n",
      "21-02-2023  13:11    <DIR>          Downloads\n",
      "06-01-2023  19:21    <DIR>          Favorites\n",
      "21-02-2023  18:47                72 FIle Handling Iterator And Generator.ipynb\n",
      "26-01-2023  13:25            10,529 FSDS_bootcamp_assignment_002_Oct_01.ipynb\n",
      "25-01-2023  20:20             2,785 FSDS_bootcamp_assignment_004_Oct_09.ipynb\n",
      "16-01-2023  21:15                 0 juputer\n",
      "02-02-2023  12:13                 0 jupyter\n",
      "22-12-2022  02:52    <DIR>          Links\n",
      "22-12-2022  02:52    <DIR>          Music\n",
      "02-02-2023  19:54                 0 notebook\n",
      "21-02-2023  18:28    <DIR>          OneDrive\n",
      "18-02-2023  20:37           113,548 part 2 solutions.ipynb\n",
      "19-02-2023  13:31            65,416 questions.ipynb\n",
      "22-12-2022  02:52    <DIR>          Saved Games\n",
      "22-12-2022  02:52    <DIR>          Searches\n",
      "19-02-2023  20:46            20,260 task questions part 2.ipynb\n",
      "01-02-2023  19:15    <DIR>          Untitled Folder\n",
      "28-01-2023  21:52             2,069 Untitled.ipynb\n",
      "01-02-2023  19:15                 0 untitled.txt\n",
      "29-01-2023  14:16             8,266 Untitled1.ipynb\n",
      "24-01-2023  22:17             1,452 Untitled10.ipynb\n",
      "24-01-2023  22:18             2,311 Untitled11.ipynb\n",
      "25-01-2023  09:37             3,569 Untitled12.ipynb\n",
      "25-01-2023  10:51             4,061 Untitled13.ipynb\n",
      "25-01-2023  20:02               682 Untitled14.ipynb\n",
      "26-01-2023  13:26               574 Untitled15.ipynb\n",
      "30-01-2023  18:08               935 Untitled16.ipynb\n",
      "29-01-2023  19:31            11,672 Untitled2.ipynb\n",
      "16-01-2023  19:18            25,399 Untitled3.ipynb\n",
      "16-01-2023  22:17             9,360 Untitled4.ipynb\n",
      "17-01-2023  08:24            14,888 Untitled5.ipynb\n",
      "28-01-2023  15:13             3,034 Untitled6.ipynb\n",
      "20-02-2023  18:15            17,717 Untitled7.ipynb\n",
      "19-02-2023  17:50            11,234 Untitled8.ipynb\n",
      "07-02-2023  20:36            38,932 Untitled9.ipynb\n",
      "22-12-2022  02:52    <DIR>          Videos\n",
      "              34 File(s)        504,193 bytes\n",
      "              21 Dir(s)  408,129,597,440 bytes free\n"
     ]
    }
   ],
   "source": [
    "%ls"
   ]
  },
  {
   "cell_type": "code",
   "execution_count": 2,
   "id": "3b9ab7c5",
   "metadata": {},
   "outputs": [
    {
     "data": {
      "text/plain": [
       "'C:\\\\Users\\\\mahen'"
      ]
     },
     "execution_count": 2,
     "metadata": {},
     "output_type": "execute_result"
    }
   ],
   "source": [
    "pwd()"
   ]
  },
  {
   "cell_type": "code",
   "execution_count": 14,
   "id": "53229ded",
   "metadata": {},
   "outputs": [],
   "source": [
    "#  how to open the file \n",
    "f=open(\"mahendra.txt\")"
   ]
  },
  {
   "cell_type": "code",
   "execution_count": 5,
   "id": "b1078285",
   "metadata": {},
   "outputs": [
    {
     "data": {
      "text/plain": [
       "_io.TextIOWrapper"
      ]
     },
     "execution_count": 5,
     "metadata": {},
     "output_type": "execute_result"
    }
   ],
   "source": [
    "type(f)"
   ]
  },
  {
   "cell_type": "code",
   "execution_count": 7,
   "id": "f12b21e0",
   "metadata": {},
   "outputs": [],
   "source": [
    "#  how to close the file\n",
    "f.close()"
   ]
  },
  {
   "cell_type": "code",
   "execution_count": null,
   "id": "3b6f75ae",
   "metadata": {},
   "outputs": [],
   "source": [
    "# Another way to open the file\n",
    "#f=open(r\"C:\\Users\\mahen\\OneDrive\\Documents\",'r')\n",
    "\n",
    "#  We have to types of files first is text file which contain text\n",
    "#  Second is the binary file which contain photos , videos , etc "
   ]
  },
  {
   "cell_type": "code",
   "execution_count": 15,
   "id": "59d499cc",
   "metadata": {},
   "outputs": [
    {
     "data": {
      "text/plain": [
       "'hello my\\nname is mahendra \\nand i am data scientist\\nat ineuron\\n'"
      ]
     },
     "execution_count": 15,
     "metadata": {},
     "output_type": "execute_result"
    }
   ],
   "source": [
    "f.read()"
   ]
  },
  {
   "cell_type": "code",
   "execution_count": 16,
   "id": "fee17b74",
   "metadata": {},
   "outputs": [
    {
     "data": {
      "text/plain": [
       "''"
      ]
     },
     "execution_count": 16,
     "metadata": {},
     "output_type": "execute_result"
    }
   ],
   "source": [
    "f.read()"
   ]
  },
  {
   "cell_type": "markdown",
   "id": "e2cd723a",
   "metadata": {},
   "source": [
    "Once we read the data from the file and if we try to read the data from the same file for the second time then the cursor will return us empty form.\n",
    "\n",
    "To bring back that cursor we use \n",
    "seek() function"
   ]
  },
  {
   "cell_type": "code",
   "execution_count": 56,
   "id": "f4daa1d0",
   "metadata": {},
   "outputs": [],
   "source": [
    "f=open(\"mahendr2.txt\")"
   ]
  },
  {
   "cell_type": "code",
   "execution_count": 40,
   "id": "63b3c696",
   "metadata": {},
   "outputs": [
    {
     "data": {
      "text/plain": [
       "'Hello \\nthis tutorial is for file handling \\nand iterator \\nand generator '"
      ]
     },
     "execution_count": 40,
     "metadata": {},
     "output_type": "execute_result"
    }
   ],
   "source": [
    "f.read()"
   ]
  },
  {
   "cell_type": "markdown",
   "id": "aed81aa2",
   "metadata": {},
   "source": [
    "The read operation also support byte operation or slicing operation we can aslo read the data from the file by using bytes\n",
    "\n",
    "To understand it better see the following example"
   ]
  },
  {
   "cell_type": "code",
   "execution_count": 41,
   "id": "b1d9903f",
   "metadata": {},
   "outputs": [
    {
     "data": {
      "text/plain": [
       "''"
      ]
     },
     "execution_count": 41,
     "metadata": {},
     "output_type": "execute_result"
    }
   ],
   "source": [
    "f.read()"
   ]
  },
  {
   "cell_type": "code",
   "execution_count": 42,
   "id": "aec11425",
   "metadata": {},
   "outputs": [
    {
     "data": {
      "text/plain": [
       "0"
      ]
     },
     "execution_count": 42,
     "metadata": {},
     "output_type": "execute_result"
    }
   ],
   "source": [
    "f.seek(0)\n",
    "#  This function will bring back the cursor to the initial position \n",
    "#  Even we can set the cursor on the place where we want to set\n"
   ]
  },
  {
   "cell_type": "code",
   "execution_count": 43,
   "id": "ad6104b9",
   "metadata": {},
   "outputs": [
    {
     "data": {
      "text/plain": [
       "'Hello \\nthis tutorial is for file handling \\nand iterator \\nand generator '"
      ]
     },
     "execution_count": 43,
     "metadata": {},
     "output_type": "execute_result"
    }
   ],
   "source": [
    "f.read()"
   ]
  },
  {
   "cell_type": "code",
   "execution_count": 45,
   "id": "24a8d740",
   "metadata": {},
   "outputs": [
    {
     "data": {
      "text/plain": [
       "''"
      ]
     },
     "execution_count": 45,
     "metadata": {},
     "output_type": "execute_result"
    }
   ],
   "source": [
    "f.read()"
   ]
  },
  {
   "cell_type": "code",
   "execution_count": 46,
   "id": "8546c2bd",
   "metadata": {},
   "outputs": [
    {
     "data": {
      "text/plain": [
       "7"
      ]
     },
     "execution_count": 46,
     "metadata": {},
     "output_type": "execute_result"
    }
   ],
   "source": [
    "f.seek(7)"
   ]
  },
  {
   "cell_type": "code",
   "execution_count": 47,
   "id": "9879339c",
   "metadata": {},
   "outputs": [
    {
     "data": {
      "text/plain": [
       "'this tutorial is for file handling \\nand iterator \\nand generator '"
      ]
     },
     "execution_count": 47,
     "metadata": {},
     "output_type": "execute_result"
    }
   ],
   "source": [
    "f.read()"
   ]
  },
  {
   "cell_type": "code",
   "execution_count": 25,
   "id": "18a29971",
   "metadata": {},
   "outputs": [
    {
     "data": {
      "text/plain": [
       "14"
      ]
     },
     "execution_count": 25,
     "metadata": {},
     "output_type": "execute_result"
    }
   ],
   "source": [
    "f.tell()\n",
    "# Tell() function told us the current file position"
   ]
  },
  {
   "cell_type": "code",
   "execution_count": 65,
   "id": "e2764935",
   "metadata": {},
   "outputs": [],
   "source": [
    "a=open(\"new.txt\")"
   ]
  },
  {
   "cell_type": "code",
   "execution_count": 59,
   "id": "23749353",
   "metadata": {},
   "outputs": [
    {
     "data": {
      "text/plain": [
       "_io.TextIOWrapper"
      ]
     },
     "execution_count": 59,
     "metadata": {},
     "output_type": "execute_result"
    }
   ],
   "source": [
    "type(a)"
   ]
  },
  {
   "cell_type": "code",
   "execution_count": 57,
   "id": "19b656cd",
   "metadata": {},
   "outputs": [
    {
     "data": {
      "text/plain": [
       "['Hello \\n',\n",
       " 'this tutorial is for file handling \\n',\n",
       " 'and iterator \\n',\n",
       " 'and generator ']"
      ]
     },
     "execution_count": 57,
     "metadata": {},
     "output_type": "execute_result"
    }
   ],
   "source": [
    "#  The readline() function is used to read the lines from file individually\n",
    "f.readlines()"
   ]
  },
  {
   "cell_type": "code",
   "execution_count": 66,
   "id": "cdb70404",
   "metadata": {},
   "outputs": [
    {
     "data": {
      "text/plain": [
       "['Get Ready To Fight \\n']"
      ]
     },
     "execution_count": 66,
     "metadata": {},
     "output_type": "execute_result"
    }
   ],
   "source": [
    "# We can also specifically read the lines from the files\n",
    "a.readlines(1)"
   ]
  },
  {
   "cell_type": "markdown",
   "id": "acb87159",
   "metadata": {},
   "source": [
    "-----------------------------------------------------------------------------------------------------------------------------------"
   ]
  },
  {
   "cell_type": "code",
   "execution_count": 69,
   "id": "d0d3faa6",
   "metadata": {},
   "outputs": [],
   "source": [
    "try :\n",
    "    b=open(\"mahendr2.txt\")\n",
    "finally :\n",
    "    b.close()"
   ]
  },
  {
   "cell_type": "code",
   "execution_count": 71,
   "id": "e8551b86",
   "metadata": {},
   "outputs": [],
   "source": [
    "with open(\"mahendr2.txt\") as b :\n",
    "    # performig some operation here\n",
    "    b.read()\n",
    "    pass"
   ]
  },
  {
   "cell_type": "markdown",
   "id": "194bca7f",
   "metadata": {},
   "source": [
    "What this 'with' keyword basically does that if we use this above statements ('with') then we don't need to close the file by using close function it automatically closed when we use 'with' keyword."
   ]
  },
  {
   "cell_type": "markdown",
   "id": "b6e0672f",
   "metadata": {},
   "source": [
    "----------------------------------------------------------------------------------------------------------------------------------"
   ]
  },
  {
   "cell_type": "code",
   "execution_count": null,
   "id": "103183f9",
   "metadata": {},
   "outputs": [],
   "source": [
    "How to write the data in the file \n"
   ]
  },
  {
   "cell_type": "code",
   "execution_count": 75,
   "id": "fd5a1c7d",
   "metadata": {},
   "outputs": [],
   "source": [
    "f=open(\"mahendr2.txt\")"
   ]
  },
  {
   "cell_type": "code",
   "execution_count": 76,
   "id": "342960c7",
   "metadata": {},
   "outputs": [
    {
     "name": "stdout",
     "output_type": "stream",
     "text": [
      "done\n"
     ]
    }
   ],
   "source": [
    "data = \"mahendra gharad patil\"\n",
    "f=open(\"mahendra3.txt\" , \"w\")\n",
    "f.write(data)\n",
    "print(\"done\")\n",
    "f.close()"
   ]
  },
  {
   "cell_type": "code",
   "execution_count": 79,
   "id": "7428ba5c",
   "metadata": {},
   "outputs": [],
   "source": [
    "with open(\"mahendra4.txt\",\"w\") as f :\n",
    "    f.write(\"new file\" \"\\n\")\n",
    "    f.write(\"second new file\")\n",
    "\n",
    "# Whenever we write the data in 'w' mode then it overwrite the data"
   ]
  },
  {
   "cell_type": "code",
   "execution_count": 88,
   "id": "2a9d2ed2",
   "metadata": {},
   "outputs": [],
   "source": [
    "f=open(\"mahendra6.txt\")"
   ]
  },
  {
   "cell_type": "code",
   "execution_count": 105,
   "id": "9b94b994",
   "metadata": {},
   "outputs": [
    {
     "name": "stdout",
     "output_type": "stream",
     "text": [
      "Enter the first number :8\n",
      "Enter the second number :9\n",
      "0.8888888888888888\n",
      "Else block will execute if try block have no issue\n"
     ]
    }
   ],
   "source": [
    "try :\n",
    "    a = int(input(\"Enter the first number :\"))\n",
    "    b = int(input(\"Enter the second number :\"))\n",
    "    c = a/b\n",
    "    print(c)\n",
    "except ArithmeticError as e :\n",
    "    print(\"Issue with the try block\" , e )\n",
    "    f=open(\"mahendra11.txt\" , \"w+\")\n",
    "\n",
    "    # 'w+' is used for both reading and writting option\n",
    "    \n",
    "    f.write(\"hellow mahendra\")\n",
    "    f.write(str(e))\n",
    "    f.read()\n",
    "else :\n",
    "    print(\"Else block will execute if try block have no issue\")\n",
    "    try :\n",
    "        g=open(\"mahendra9.txt\" , \"w\")\n",
    "        g.write(\"jan be ltha kam dhande nahi kay tule\")\n",
    "    except :\n",
    "        print(\"still i am not understand anything\")"
   ]
  },
  {
   "cell_type": "code",
   "execution_count": 1,
   "id": "e4c8caf0",
   "metadata": {},
   "outputs": [
    {
     "ename": "FileExistsError",
     "evalue": "[Errno 17] File exists: 'mahendra9.txt'",
     "output_type": "error",
     "traceback": [
      "\u001b[1;31m---------------------------------------------------------------------------\u001b[0m",
      "\u001b[1;31mFileExistsError\u001b[0m                           Traceback (most recent call last)",
      "\u001b[1;32m~\\AppData\\Local\\Temp\\ipykernel_16840\\1369985367.py\u001b[0m in \u001b[0;36m<module>\u001b[1;34m\u001b[0m\n\u001b[1;32m----> 1\u001b[1;33m \u001b[0mg\u001b[0m\u001b[1;33m=\u001b[0m\u001b[0mopen\u001b[0m\u001b[1;33m(\u001b[0m\u001b[1;34m\"mahendra9.txt\"\u001b[0m \u001b[1;33m,\u001b[0m \u001b[1;34m\"x\"\u001b[0m\u001b[1;33m)\u001b[0m\u001b[1;33m\u001b[0m\u001b[1;33m\u001b[0m\u001b[0m\n\u001b[0m",
      "\u001b[1;31mFileExistsError\u001b[0m: [Errno 17] File exists: 'mahendra9.txt'"
     ]
    }
   ],
   "source": [
    "g=open(\"mahendra9.txt\" , \"x\")"
   ]
  },
  {
   "cell_type": "code",
   "execution_count": 2,
   "id": "12a1469c",
   "metadata": {},
   "outputs": [],
   "source": [
    "g=open(\"mahendra90.txt\" , \"x\")"
   ]
  },
  {
   "cell_type": "code",
   "execution_count": 3,
   "id": "1436b226",
   "metadata": {},
   "outputs": [
    {
     "ename": "FileExistsError",
     "evalue": "[Errno 17] File exists: 'mahendra90.txt'",
     "output_type": "error",
     "traceback": [
      "\u001b[1;31m---------------------------------------------------------------------------\u001b[0m",
      "\u001b[1;31mFileExistsError\u001b[0m                           Traceback (most recent call last)",
      "\u001b[1;32m~\\AppData\\Local\\Temp\\ipykernel_16840\\2914689990.py\u001b[0m in \u001b[0;36m<module>\u001b[1;34m\u001b[0m\n\u001b[1;32m----> 1\u001b[1;33m \u001b[0mg\u001b[0m\u001b[1;33m=\u001b[0m\u001b[0mopen\u001b[0m\u001b[1;33m(\u001b[0m\u001b[1;34m\"mahendra90.txt\"\u001b[0m \u001b[1;33m,\u001b[0m \u001b[1;34m\"x\"\u001b[0m\u001b[1;33m)\u001b[0m\u001b[1;33m\u001b[0m\u001b[1;33m\u001b[0m\u001b[0m\n\u001b[0m",
      "\u001b[1;31mFileExistsError\u001b[0m: [Errno 17] File exists: 'mahendra90.txt'"
     ]
    }
   ],
   "source": [
    "g=open(\"mahendra90.txt\" , \"x\")"
   ]
  },
  {
   "cell_type": "code",
   "execution_count": null,
   "id": "bb5188fd",
   "metadata": {},
   "outputs": [],
   "source": [
    "# r open a filefor readding\n",
    "# w opens a file for writing and creates a new file if its does not exits or tructaes the file if exitss\n",
    "# x opens a file for exclustive creation if the file already exits operations\n",
    "# a open a file for appending at ethe ned of file\n",
    "# + oepns a file for updating (reading a dwriting)"
   ]
  },
  {
   "cell_type": "code",
   "execution_count": null,
   "id": "76aa5d9d",
   "metadata": {},
   "outputs": [],
   "source": [
    "Q.1 check the file is present or not\n",
    "Q.2 count the number of lines \n",
    "Q.3 check the file size"
   ]
  },
  {
   "cell_type": "markdown",
   "id": "1af38cec",
   "metadata": {},
   "source": [
    "**Iterator and Generator**\n",
    "\n",
    "**Iterator := Iterator some type of object which iterate in iteration**\n",
    "\n",
    "**For example Dict , List , Tuples**\n",
    "\n",
    "\n",
    "**Iteration := repeting steps**"
   ]
  },
  {
   "cell_type": "code",
   "execution_count": 4,
   "id": "daec1274",
   "metadata": {},
   "outputs": [],
   "source": [
    "mytuple = (\"mahendra\" , \"gharad\" , \"patil\")"
   ]
  },
  {
   "cell_type": "code",
   "execution_count": 5,
   "id": "9d126808",
   "metadata": {},
   "outputs": [
    {
     "name": "stdout",
     "output_type": "stream",
     "text": [
      "mahendra\n",
      "gharad\n",
      "patil\n"
     ]
    }
   ],
   "source": [
    "for i in mytuple :\n",
    "    print(i)"
   ]
  },
  {
   "cell_type": "code",
   "execution_count": 6,
   "id": "545a3897",
   "metadata": {},
   "outputs": [
    {
     "data": {
      "text/plain": [
       "['__add__',\n",
       " '__class__',\n",
       " '__class_getitem__',\n",
       " '__contains__',\n",
       " '__delattr__',\n",
       " '__dir__',\n",
       " '__doc__',\n",
       " '__eq__',\n",
       " '__format__',\n",
       " '__ge__',\n",
       " '__getattribute__',\n",
       " '__getitem__',\n",
       " '__getnewargs__',\n",
       " '__gt__',\n",
       " '__hash__',\n",
       " '__init__',\n",
       " '__init_subclass__',\n",
       " '__iter__',\n",
       " '__le__',\n",
       " '__len__',\n",
       " '__lt__',\n",
       " '__mul__',\n",
       " '__ne__',\n",
       " '__new__',\n",
       " '__reduce__',\n",
       " '__reduce_ex__',\n",
       " '__repr__',\n",
       " '__rmul__',\n",
       " '__setattr__',\n",
       " '__sizeof__',\n",
       " '__str__',\n",
       " '__subclasshook__',\n",
       " 'count',\n",
       " 'index']"
      ]
     },
     "execution_count": 6,
     "metadata": {},
     "output_type": "execute_result"
    }
   ],
   "source": [
    "dir(mytuple)"
   ]
  },
  {
   "cell_type": "code",
   "execution_count": 7,
   "id": "8e3a4a1c",
   "metadata": {},
   "outputs": [
    {
     "name": "stdout",
     "output_type": "stream",
     "text": [
      "2\n",
      "3\n",
      "4\n",
      "5\n",
      "6\n",
      "7\n"
     ]
    }
   ],
   "source": [
    "mylist = [2,3,4,5,6,7]\n",
    "for i in mylist :\n",
    "    print(i)"
   ]
  },
  {
   "cell_type": "code",
   "execution_count": 8,
   "id": "3216f84b",
   "metadata": {},
   "outputs": [
    {
     "data": {
      "text/plain": [
       "['__add__',\n",
       " '__class__',\n",
       " '__class_getitem__',\n",
       " '__contains__',\n",
       " '__delattr__',\n",
       " '__delitem__',\n",
       " '__dir__',\n",
       " '__doc__',\n",
       " '__eq__',\n",
       " '__format__',\n",
       " '__ge__',\n",
       " '__getattribute__',\n",
       " '__getitem__',\n",
       " '__gt__',\n",
       " '__hash__',\n",
       " '__iadd__',\n",
       " '__imul__',\n",
       " '__init__',\n",
       " '__init_subclass__',\n",
       " '__iter__',\n",
       " '__le__',\n",
       " '__len__',\n",
       " '__lt__',\n",
       " '__mul__',\n",
       " '__ne__',\n",
       " '__new__',\n",
       " '__reduce__',\n",
       " '__reduce_ex__',\n",
       " '__repr__',\n",
       " '__reversed__',\n",
       " '__rmul__',\n",
       " '__setattr__',\n",
       " '__setitem__',\n",
       " '__sizeof__',\n",
       " '__str__',\n",
       " '__subclasshook__',\n",
       " 'append',\n",
       " 'clear',\n",
       " 'copy',\n",
       " 'count',\n",
       " 'extend',\n",
       " 'index',\n",
       " 'insert',\n",
       " 'pop',\n",
       " 'remove',\n",
       " 'reverse',\n",
       " 'sort']"
      ]
     },
     "execution_count": 8,
     "metadata": {},
     "output_type": "execute_result"
    }
   ],
   "source": [
    "dir(mylist)"
   ]
  },
  {
   "cell_type": "code",
   "execution_count": 10,
   "id": "49f0f488",
   "metadata": {},
   "outputs": [],
   "source": [
    "mydict = {'a' : 12 , 'b' : 34 , 'c' : 23 , 'd' : 90}"
   ]
  },
  {
   "cell_type": "code",
   "execution_count": 14,
   "id": "47176bb3",
   "metadata": {},
   "outputs": [
    {
     "name": "stdout",
     "output_type": "stream",
     "text": [
      "a 12\n",
      "b 34\n",
      "c 23\n",
      "d 90\n"
     ]
    }
   ],
   "source": [
    "for i , j in mydict.items() :\n",
    "    print(i,j)"
   ]
  },
  {
   "cell_type": "code",
   "execution_count": 15,
   "id": "e884271a",
   "metadata": {},
   "outputs": [
    {
     "data": {
      "text/plain": [
       "['__class__',\n",
       " '__class_getitem__',\n",
       " '__contains__',\n",
       " '__delattr__',\n",
       " '__delitem__',\n",
       " '__dir__',\n",
       " '__doc__',\n",
       " '__eq__',\n",
       " '__format__',\n",
       " '__ge__',\n",
       " '__getattribute__',\n",
       " '__getitem__',\n",
       " '__gt__',\n",
       " '__hash__',\n",
       " '__init__',\n",
       " '__init_subclass__',\n",
       " '__ior__',\n",
       " '__iter__',\n",
       " '__le__',\n",
       " '__len__',\n",
       " '__lt__',\n",
       " '__ne__',\n",
       " '__new__',\n",
       " '__or__',\n",
       " '__reduce__',\n",
       " '__reduce_ex__',\n",
       " '__repr__',\n",
       " '__reversed__',\n",
       " '__ror__',\n",
       " '__setattr__',\n",
       " '__setitem__',\n",
       " '__sizeof__',\n",
       " '__str__',\n",
       " '__subclasshook__',\n",
       " 'clear',\n",
       " 'copy',\n",
       " 'fromkeys',\n",
       " 'get',\n",
       " 'items',\n",
       " 'keys',\n",
       " 'pop',\n",
       " 'popitem',\n",
       " 'setdefault',\n",
       " 'update',\n",
       " 'values']"
      ]
     },
     "execution_count": 15,
     "metadata": {},
     "output_type": "execute_result"
    }
   ],
   "source": [
    "dir(mydict)"
   ]
  },
  {
   "cell_type": "markdown",
   "id": "6d585fd5",
   "metadata": {},
   "source": [
    "**DIR tells us the supported functions to a specific datatypes**"
   ]
  },
  {
   "cell_type": "markdown",
   "id": "c6de94ce",
   "metadata": {},
   "source": [
    "**Iterator : Iterator are those object which capturing the position of each data**\n",
    "\n",
    "**Iterator is the object that contain the countable number of values**\n",
    "\n",
    "**It should know the position of next data , next data**\n",
    "\n",
    "**It should keep tract of position of data**\n",
    "\n"
   ]
  },
  {
   "cell_type": "code",
   "execution_count": 16,
   "id": "339425f2",
   "metadata": {},
   "outputs": [],
   "source": [
    "mylist = ['mahendra' , 'gharad' , 'patil']"
   ]
  },
  {
   "cell_type": "code",
   "execution_count": 18,
   "id": "b0136399",
   "metadata": {},
   "outputs": [
    {
     "ename": "TypeError",
     "evalue": "'list' object is not an iterator",
     "output_type": "error",
     "traceback": [
      "\u001b[1;31m---------------------------------------------------------------------------\u001b[0m",
      "\u001b[1;31mTypeError\u001b[0m                                 Traceback (most recent call last)",
      "\u001b[1;32m~\\AppData\\Local\\Temp\\ipykernel_16840\\3814105806.py\u001b[0m in \u001b[0;36m<module>\u001b[1;34m\u001b[0m\n\u001b[1;32m----> 1\u001b[1;33m \u001b[0mnext\u001b[0m\u001b[1;33m(\u001b[0m\u001b[0mmylist\u001b[0m\u001b[1;33m)\u001b[0m\u001b[1;33m\u001b[0m\u001b[1;33m\u001b[0m\u001b[0m\n\u001b[0m",
      "\u001b[1;31mTypeError\u001b[0m: 'list' object is not an iterator"
     ]
    }
   ],
   "source": [
    "next(mylist)"
   ]
  },
  {
   "cell_type": "code",
   "execution_count": 19,
   "id": "e920ff28",
   "metadata": {},
   "outputs": [],
   "source": [
    "x = iter(mylist)"
   ]
  },
  {
   "cell_type": "code",
   "execution_count": 20,
   "id": "38bdc4cd",
   "metadata": {},
   "outputs": [
    {
     "data": {
      "text/plain": [
       "<list_iterator at 0x245ed4f1d30>"
      ]
     },
     "execution_count": 20,
     "metadata": {},
     "output_type": "execute_result"
    }
   ],
   "source": [
    "x"
   ]
  },
  {
   "cell_type": "code",
   "execution_count": 24,
   "id": "9fee9ff1",
   "metadata": {},
   "outputs": [
    {
     "data": {
      "text/plain": [
       "list_iterator"
      ]
     },
     "execution_count": 24,
     "metadata": {},
     "output_type": "execute_result"
    }
   ],
   "source": [
    "type(x)"
   ]
  },
  {
   "cell_type": "code",
   "execution_count": 21,
   "id": "3da9e05a",
   "metadata": {},
   "outputs": [
    {
     "data": {
      "text/plain": [
       "'mahendra'"
      ]
     },
     "execution_count": 21,
     "metadata": {},
     "output_type": "execute_result"
    }
   ],
   "source": [
    "next(x)"
   ]
  },
  {
   "cell_type": "code",
   "execution_count": 22,
   "id": "631c7a4c",
   "metadata": {},
   "outputs": [
    {
     "data": {
      "text/plain": [
       "'gharad'"
      ]
     },
     "execution_count": 22,
     "metadata": {},
     "output_type": "execute_result"
    }
   ],
   "source": [
    "next(x)"
   ]
  },
  {
   "cell_type": "code",
   "execution_count": 23,
   "id": "debf5686",
   "metadata": {},
   "outputs": [
    {
     "data": {
      "text/plain": [
       "'patil'"
      ]
     },
     "execution_count": 23,
     "metadata": {},
     "output_type": "execute_result"
    }
   ],
   "source": [
    "next(x)"
   ]
  },
  {
   "cell_type": "code",
   "execution_count": 25,
   "id": "966935d6",
   "metadata": {},
   "outputs": [
    {
     "ename": "StopIteration",
     "evalue": "",
     "output_type": "error",
     "traceback": [
      "\u001b[1;31m---------------------------------------------------------------------------\u001b[0m",
      "\u001b[1;31mStopIteration\u001b[0m                             Traceback (most recent call last)",
      "\u001b[1;32m~\\AppData\\Local\\Temp\\ipykernel_16840\\3485793935.py\u001b[0m in \u001b[0;36m<module>\u001b[1;34m\u001b[0m\n\u001b[1;32m----> 1\u001b[1;33m \u001b[0mnext\u001b[0m\u001b[1;33m(\u001b[0m\u001b[0mx\u001b[0m\u001b[1;33m)\u001b[0m\u001b[1;33m\u001b[0m\u001b[1;33m\u001b[0m\u001b[0m\n\u001b[0m",
      "\u001b[1;31mStopIteration\u001b[0m: "
     ]
    }
   ],
   "source": [
    "next(x)"
   ]
  },
  {
   "cell_type": "code",
   "execution_count": 26,
   "id": "a77c03e0",
   "metadata": {},
   "outputs": [],
   "source": [
    "m = \"mahendragharadpatil\""
   ]
  },
  {
   "cell_type": "code",
   "execution_count": 27,
   "id": "a5ed6e06",
   "metadata": {},
   "outputs": [
    {
     "ename": "TypeError",
     "evalue": "'str' object is not an iterator",
     "output_type": "error",
     "traceback": [
      "\u001b[1;31m---------------------------------------------------------------------------\u001b[0m",
      "\u001b[1;31mTypeError\u001b[0m                                 Traceback (most recent call last)",
      "\u001b[1;32m~\\AppData\\Local\\Temp\\ipykernel_16840\\1080171644.py\u001b[0m in \u001b[0;36m<module>\u001b[1;34m\u001b[0m\n\u001b[1;32m----> 1\u001b[1;33m \u001b[0mnext\u001b[0m\u001b[1;33m(\u001b[0m\u001b[0mm\u001b[0m\u001b[1;33m)\u001b[0m\u001b[1;33m\u001b[0m\u001b[1;33m\u001b[0m\u001b[0m\n\u001b[0m",
      "\u001b[1;31mTypeError\u001b[0m: 'str' object is not an iterator"
     ]
    }
   ],
   "source": [
    "next(m)"
   ]
  },
  {
   "cell_type": "code",
   "execution_count": 31,
   "id": "df386f88",
   "metadata": {},
   "outputs": [],
   "source": [
    "h = iter(m)"
   ]
  },
  {
   "cell_type": "code",
   "execution_count": 36,
   "id": "fde587bd",
   "metadata": {},
   "outputs": [
    {
     "data": {
      "text/plain": [
       "'n'"
      ]
     },
     "execution_count": 36,
     "metadata": {},
     "output_type": "execute_result"
    }
   ],
   "source": [
    "next(h)"
   ]
  },
  {
   "cell_type": "markdown",
   "id": "4f3fe4e1",
   "metadata": {},
   "source": [
    "**Iterator := __item__ , __next__ , Iterator basically know the position of the next data**\n",
    "\n",
    "**Iterable := __item__**"
   ]
  },
  {
   "cell_type": "markdown",
   "id": "9c59b16e",
   "metadata": {},
   "source": [
    "*   1). Iterable \n",
    "\n",
    "*   2). Iterator (by using iter() function).\n",
    "\n",
    "*   3). Return next element (using next() function).\n",
    "\n",
    "*   4). Stop Execution( When we don't have data to iterate)."
   ]
  },
  {
   "cell_type": "markdown",
   "id": "2c0e6e1b",
   "metadata": {},
   "source": [
    "*   itertables are not iterators\n",
    "\n",
    "*   inerator are also interables\n",
    "\n",
    "*   calling iter() function on iterable gives an iterator\n",
    "\n",
    "*   calling next() function on iterator gives next elements"
   ]
  },
  {
   "cell_type": "markdown",
   "id": "53b7e1ff",
   "metadata": {},
   "source": [
    "*   **Genrerator is other way of creating iteraror**"
   ]
  },
  {
   "cell_type": "code",
   "execution_count": 37,
   "id": "8ca3b1e0",
   "metadata": {},
   "outputs": [
    {
     "name": "stdout",
     "output_type": "stream",
     "text": [
      "0\n",
      "1\n",
      "2\n",
      "3\n",
      "4\n"
     ]
    }
   ],
   "source": [
    "for i in range(5) :\n",
    "    print(i)"
   ]
  },
  {
   "cell_type": "code",
   "execution_count": 39,
   "id": "91275046",
   "metadata": {},
   "outputs": [],
   "source": [
    "def square() :\n",
    "    for i in range(5) :\n",
    "        return i**2"
   ]
  },
  {
   "cell_type": "code",
   "execution_count": 41,
   "id": "3c44afd2",
   "metadata": {},
   "outputs": [
    {
     "data": {
      "text/plain": [
       "0"
      ]
     },
     "execution_count": 41,
     "metadata": {},
     "output_type": "execute_result"
    }
   ],
   "source": [
    "square()"
   ]
  },
  {
   "cell_type": "code",
   "execution_count": 52,
   "id": "972a1a67",
   "metadata": {},
   "outputs": [],
   "source": [
    "def square() :\n",
    "    for i in range(5) :\n",
    "        yield i**2\n",
    "\n",
    "# yield is basically a keyword which is used to create the generator.\n",
    "# yield funciotn return a generator object and it store where value it is being called.  \n",
    "# yield function hold some part of data as compare to normal function return just result.\n",
    "# Main objective of creating generator is to save memory.\n"
   ]
  },
  {
   "cell_type": "code",
   "execution_count": 53,
   "id": "90fcea5d",
   "metadata": {},
   "outputs": [
    {
     "data": {
      "text/plain": [
       "<generator object square at 0x00000245ED5F13C0>"
      ]
     },
     "execution_count": 53,
     "metadata": {},
     "output_type": "execute_result"
    }
   ],
   "source": [
    "square()"
   ]
  },
  {
   "cell_type": "code",
   "execution_count": 54,
   "id": "dd5c6a6b",
   "metadata": {},
   "outputs": [],
   "source": [
    "k = square()"
   ]
  },
  {
   "cell_type": "code",
   "execution_count": 55,
   "id": "825104be",
   "metadata": {},
   "outputs": [
    {
     "data": {
      "text/plain": [
       "generator"
      ]
     },
     "execution_count": 55,
     "metadata": {},
     "output_type": "execute_result"
    }
   ],
   "source": [
    "type(k)"
   ]
  },
  {
   "cell_type": "code",
   "execution_count": 59,
   "id": "ace2f9c6",
   "metadata": {},
   "outputs": [
    {
     "ename": "StopIteration",
     "evalue": "",
     "output_type": "error",
     "traceback": [
      "\u001b[1;31m---------------------------------------------------------------------------\u001b[0m",
      "\u001b[1;31mStopIteration\u001b[0m                             Traceback (most recent call last)",
      "\u001b[1;32m~\\AppData\\Local\\Temp\\ipykernel_16840\\2802804969.py\u001b[0m in \u001b[0;36m<module>\u001b[1;34m\u001b[0m\n\u001b[1;32m----> 1\u001b[1;33m \u001b[0mnext\u001b[0m\u001b[1;33m(\u001b[0m\u001b[0mk\u001b[0m\u001b[1;33m)\u001b[0m\u001b[1;33m\u001b[0m\u001b[1;33m\u001b[0m\u001b[0m\n\u001b[0m",
      "\u001b[1;31mStopIteration\u001b[0m: "
     ]
    }
   ],
   "source": [
    "next(k)"
   ]
  },
  {
   "cell_type": "code",
   "execution_count": 61,
   "id": "2ad30faa",
   "metadata": {},
   "outputs": [],
   "source": [
    "for i in k :\n",
    "    print(i)"
   ]
  },
  {
   "cell_type": "code",
   "execution_count": 66,
   "id": "e490c947",
   "metadata": {},
   "outputs": [],
   "source": [
    "def new() :\n",
    "    n=1\n",
    "    print(\"first line\")\n",
    "    yield n \n",
    "    \n",
    "    n=n+1\n",
    "    print(\"first line\")\n",
    "    yield n \n",
    "    \n",
    "    n=n+1\n",
    "    print(\"first line\")\n",
    "    yield n "
   ]
  },
  {
   "cell_type": "code",
   "execution_count": 63,
   "id": "53039d4a",
   "metadata": {},
   "outputs": [
    {
     "data": {
      "text/plain": [
       "<generator object new at 0x00000245ED5FA580>"
      ]
     },
     "execution_count": 63,
     "metadata": {},
     "output_type": "execute_result"
    }
   ],
   "source": [
    "new()"
   ]
  },
  {
   "cell_type": "code",
   "execution_count": 67,
   "id": "e6a54f1d",
   "metadata": {},
   "outputs": [
    {
     "name": "stdout",
     "output_type": "stream",
     "text": [
      "first line\n",
      "1\n",
      "first line\n",
      "2\n",
      "first line\n",
      "3\n"
     ]
    }
   ],
   "source": [
    "for i in new() :\n",
    "    print(i)"
   ]
  },
  {
   "cell_type": "code",
   "execution_count": 73,
   "id": "3e1f614c",
   "metadata": {},
   "outputs": [],
   "source": [
    "def gencube(n) :\n",
    "    a = list()\n",
    "    for i in range (n) :\n",
    "        a.append(i**3)\n",
    "    return a"
   ]
  },
  {
   "cell_type": "code",
   "execution_count": 75,
   "id": "3a394084",
   "metadata": {},
   "outputs": [
    {
     "data": {
      "text/plain": [
       "[0,\n",
       " 1,\n",
       " 8,\n",
       " 27,\n",
       " 64,\n",
       " 125,\n",
       " 216,\n",
       " 343,\n",
       " 512,\n",
       " 729,\n",
       " 1000,\n",
       " 1331,\n",
       " 1728,\n",
       " 2197,\n",
       " 2744,\n",
       " 3375,\n",
       " 4096,\n",
       " 4913,\n",
       " 5832,\n",
       " 6859,\n",
       " 8000,\n",
       " 9261,\n",
       " 10648,\n",
       " 12167,\n",
       " 13824,\n",
       " 15625,\n",
       " 17576,\n",
       " 19683,\n",
       " 21952,\n",
       " 24389,\n",
       " 27000,\n",
       " 29791,\n",
       " 32768,\n",
       " 35937,\n",
       " 39304,\n",
       " 42875,\n",
       " 46656,\n",
       " 50653,\n",
       " 54872,\n",
       " 59319,\n",
       " 64000,\n",
       " 68921,\n",
       " 74088,\n",
       " 79507,\n",
       " 85184,\n",
       " 91125,\n",
       " 97336,\n",
       " 103823,\n",
       " 110592,\n",
       " 117649,\n",
       " 125000,\n",
       " 132651,\n",
       " 140608,\n",
       " 148877,\n",
       " 157464,\n",
       " 166375,\n",
       " 175616,\n",
       " 185193,\n",
       " 195112,\n",
       " 205379,\n",
       " 216000,\n",
       " 226981,\n",
       " 238328,\n",
       " 250047,\n",
       " 262144,\n",
       " 274625,\n",
       " 287496,\n",
       " 300763,\n",
       " 314432,\n",
       " 328509,\n",
       " 343000,\n",
       " 357911,\n",
       " 373248,\n",
       " 389017,\n",
       " 405224,\n",
       " 421875,\n",
       " 438976,\n",
       " 456533,\n",
       " 474552,\n",
       " 493039,\n",
       " 512000,\n",
       " 531441,\n",
       " 551368,\n",
       " 571787,\n",
       " 592704,\n",
       " 614125,\n",
       " 636056,\n",
       " 658503,\n",
       " 681472,\n",
       " 704969,\n",
       " 729000,\n",
       " 753571,\n",
       " 778688,\n",
       " 804357,\n",
       " 830584,\n",
       " 857375,\n",
       " 884736,\n",
       " 912673,\n",
       " 941192,\n",
       " 970299,\n",
       " 1000000,\n",
       " 1030301,\n",
       " 1061208,\n",
       " 1092727,\n",
       " 1124864,\n",
       " 1157625,\n",
       " 1191016,\n",
       " 1225043,\n",
       " 1259712,\n",
       " 1295029,\n",
       " 1331000,\n",
       " 1367631,\n",
       " 1404928,\n",
       " 1442897,\n",
       " 1481544,\n",
       " 1520875,\n",
       " 1560896,\n",
       " 1601613,\n",
       " 1643032,\n",
       " 1685159,\n",
       " 1728000,\n",
       " 1771561,\n",
       " 1815848,\n",
       " 1860867,\n",
       " 1906624,\n",
       " 1953125,\n",
       " 2000376,\n",
       " 2048383,\n",
       " 2097152,\n",
       " 2146689,\n",
       " 2197000,\n",
       " 2248091,\n",
       " 2299968,\n",
       " 2352637,\n",
       " 2406104,\n",
       " 2460375,\n",
       " 2515456,\n",
       " 2571353,\n",
       " 2628072,\n",
       " 2685619,\n",
       " 2744000,\n",
       " 2803221,\n",
       " 2863288,\n",
       " 2924207,\n",
       " 2985984,\n",
       " 3048625,\n",
       " 3112136,\n",
       " 3176523,\n",
       " 3241792,\n",
       " 3307949,\n",
       " 3375000,\n",
       " 3442951,\n",
       " 3511808,\n",
       " 3581577,\n",
       " 3652264,\n",
       " 3723875,\n",
       " 3796416,\n",
       " 3869893,\n",
       " 3944312,\n",
       " 4019679,\n",
       " 4096000,\n",
       " 4173281,\n",
       " 4251528,\n",
       " 4330747,\n",
       " 4410944,\n",
       " 4492125,\n",
       " 4574296,\n",
       " 4657463,\n",
       " 4741632,\n",
       " 4826809,\n",
       " 4913000,\n",
       " 5000211,\n",
       " 5088448,\n",
       " 5177717,\n",
       " 5268024,\n",
       " 5359375,\n",
       " 5451776,\n",
       " 5545233,\n",
       " 5639752,\n",
       " 5735339,\n",
       " 5832000,\n",
       " 5929741,\n",
       " 6028568,\n",
       " 6128487,\n",
       " 6229504,\n",
       " 6331625,\n",
       " 6434856,\n",
       " 6539203,\n",
       " 6644672,\n",
       " 6751269,\n",
       " 6859000,\n",
       " 6967871,\n",
       " 7077888,\n",
       " 7189057,\n",
       " 7301384,\n",
       " 7414875,\n",
       " 7529536,\n",
       " 7645373,\n",
       " 7762392,\n",
       " 7880599,\n",
       " 8000000,\n",
       " 8120601,\n",
       " 8242408,\n",
       " 8365427,\n",
       " 8489664,\n",
       " 8615125,\n",
       " 8741816,\n",
       " 8869743,\n",
       " 8998912,\n",
       " 9129329,\n",
       " 9261000,\n",
       " 9393931,\n",
       " 9528128,\n",
       " 9663597,\n",
       " 9800344,\n",
       " 9938375,\n",
       " 10077696,\n",
       " 10218313,\n",
       " 10360232,\n",
       " 10503459,\n",
       " 10648000,\n",
       " 10793861,\n",
       " 10941048,\n",
       " 11089567,\n",
       " 11239424,\n",
       " 11390625,\n",
       " 11543176,\n",
       " 11697083,\n",
       " 11852352,\n",
       " 12008989,\n",
       " 12167000,\n",
       " 12326391,\n",
       " 12487168,\n",
       " 12649337,\n",
       " 12812904,\n",
       " 12977875,\n",
       " 13144256,\n",
       " 13312053,\n",
       " 13481272,\n",
       " 13651919,\n",
       " 13824000,\n",
       " 13997521,\n",
       " 14172488,\n",
       " 14348907,\n",
       " 14526784,\n",
       " 14706125,\n",
       " 14886936,\n",
       " 15069223,\n",
       " 15252992,\n",
       " 15438249,\n",
       " 15625000,\n",
       " 15813251,\n",
       " 16003008,\n",
       " 16194277,\n",
       " 16387064,\n",
       " 16581375,\n",
       " 16777216,\n",
       " 16974593,\n",
       " 17173512,\n",
       " 17373979,\n",
       " 17576000,\n",
       " 17779581,\n",
       " 17984728,\n",
       " 18191447,\n",
       " 18399744,\n",
       " 18609625,\n",
       " 18821096,\n",
       " 19034163,\n",
       " 19248832,\n",
       " 19465109,\n",
       " 19683000,\n",
       " 19902511,\n",
       " 20123648,\n",
       " 20346417,\n",
       " 20570824,\n",
       " 20796875,\n",
       " 21024576,\n",
       " 21253933,\n",
       " 21484952,\n",
       " 21717639,\n",
       " 21952000,\n",
       " 22188041,\n",
       " 22425768,\n",
       " 22665187,\n",
       " 22906304,\n",
       " 23149125,\n",
       " 23393656,\n",
       " 23639903,\n",
       " 23887872,\n",
       " 24137569,\n",
       " 24389000,\n",
       " 24642171,\n",
       " 24897088,\n",
       " 25153757,\n",
       " 25412184,\n",
       " 25672375,\n",
       " 25934336,\n",
       " 26198073,\n",
       " 26463592,\n",
       " 26730899,\n",
       " 27000000,\n",
       " 27270901,\n",
       " 27543608,\n",
       " 27818127,\n",
       " 28094464,\n",
       " 28372625,\n",
       " 28652616,\n",
       " 28934443,\n",
       " 29218112,\n",
       " 29503629,\n",
       " 29791000,\n",
       " 30080231,\n",
       " 30371328,\n",
       " 30664297,\n",
       " 30959144,\n",
       " 31255875,\n",
       " 31554496,\n",
       " 31855013,\n",
       " 32157432,\n",
       " 32461759,\n",
       " 32768000,\n",
       " 33076161,\n",
       " 33386248,\n",
       " 33698267,\n",
       " 34012224,\n",
       " 34328125,\n",
       " 34645976,\n",
       " 34965783,\n",
       " 35287552,\n",
       " 35611289,\n",
       " 35937000,\n",
       " 36264691,\n",
       " 36594368,\n",
       " 36926037,\n",
       " 37259704,\n",
       " 37595375,\n",
       " 37933056,\n",
       " 38272753,\n",
       " 38614472,\n",
       " 38958219,\n",
       " 39304000,\n",
       " 39651821,\n",
       " 40001688,\n",
       " 40353607,\n",
       " 40707584,\n",
       " 41063625,\n",
       " 41421736,\n",
       " 41781923,\n",
       " 42144192,\n",
       " 42508549,\n",
       " 42875000,\n",
       " 43243551,\n",
       " 43614208,\n",
       " 43986977,\n",
       " 44361864,\n",
       " 44738875,\n",
       " 45118016,\n",
       " 45499293,\n",
       " 45882712,\n",
       " 46268279,\n",
       " 46656000,\n",
       " 47045881,\n",
       " 47437928,\n",
       " 47832147,\n",
       " 48228544,\n",
       " 48627125,\n",
       " 49027896,\n",
       " 49430863,\n",
       " 49836032,\n",
       " 50243409,\n",
       " 50653000,\n",
       " 51064811,\n",
       " 51478848,\n",
       " 51895117,\n",
       " 52313624,\n",
       " 52734375,\n",
       " 53157376,\n",
       " 53582633,\n",
       " 54010152,\n",
       " 54439939,\n",
       " 54872000,\n",
       " 55306341,\n",
       " 55742968,\n",
       " 56181887,\n",
       " 56623104,\n",
       " 57066625,\n",
       " 57512456,\n",
       " 57960603,\n",
       " 58411072,\n",
       " 58863869,\n",
       " 59319000,\n",
       " 59776471,\n",
       " 60236288,\n",
       " 60698457,\n",
       " 61162984,\n",
       " 61629875,\n",
       " 62099136,\n",
       " 62570773,\n",
       " 63044792,\n",
       " 63521199,\n",
       " 64000000,\n",
       " 64481201,\n",
       " 64964808,\n",
       " 65450827,\n",
       " 65939264,\n",
       " 66430125,\n",
       " 66923416,\n",
       " 67419143,\n",
       " 67917312,\n",
       " 68417929,\n",
       " 68921000,\n",
       " 69426531,\n",
       " 69934528,\n",
       " 70444997,\n",
       " 70957944,\n",
       " 71473375,\n",
       " 71991296,\n",
       " 72511713,\n",
       " 73034632,\n",
       " 73560059,\n",
       " 74088000,\n",
       " 74618461,\n",
       " 75151448,\n",
       " 75686967,\n",
       " 76225024,\n",
       " 76765625,\n",
       " 77308776,\n",
       " 77854483,\n",
       " 78402752,\n",
       " 78953589,\n",
       " 79507000,\n",
       " 80062991,\n",
       " 80621568,\n",
       " 81182737,\n",
       " 81746504,\n",
       " 82312875,\n",
       " 82881856,\n",
       " 83453453,\n",
       " 84027672,\n",
       " 84604519,\n",
       " 85184000,\n",
       " 85766121,\n",
       " 86350888,\n",
       " 86938307,\n",
       " 87528384,\n",
       " 88121125,\n",
       " 88716536,\n",
       " 89314623,\n",
       " 89915392,\n",
       " 90518849,\n",
       " 91125000,\n",
       " 91733851,\n",
       " 92345408,\n",
       " 92959677,\n",
       " 93576664,\n",
       " 94196375,\n",
       " 94818816,\n",
       " 95443993,\n",
       " 96071912,\n",
       " 96702579,\n",
       " 97336000,\n",
       " 97972181,\n",
       " 98611128,\n",
       " 99252847,\n",
       " 99897344,\n",
       " 100544625,\n",
       " 101194696,\n",
       " 101847563,\n",
       " 102503232,\n",
       " 103161709,\n",
       " 103823000,\n",
       " 104487111,\n",
       " 105154048,\n",
       " 105823817,\n",
       " 106496424,\n",
       " 107171875,\n",
       " 107850176,\n",
       " 108531333,\n",
       " 109215352,\n",
       " 109902239,\n",
       " 110592000,\n",
       " 111284641,\n",
       " 111980168,\n",
       " 112678587,\n",
       " 113379904,\n",
       " 114084125,\n",
       " 114791256,\n",
       " 115501303,\n",
       " 116214272,\n",
       " 116930169,\n",
       " 117649000,\n",
       " 118370771,\n",
       " 119095488,\n",
       " 119823157,\n",
       " 120553784,\n",
       " 121287375,\n",
       " 122023936,\n",
       " 122763473,\n",
       " 123505992,\n",
       " 124251499,\n",
       " 125000000,\n",
       " 125751501,\n",
       " 126506008,\n",
       " 127263527,\n",
       " 128024064,\n",
       " 128787625,\n",
       " 129554216,\n",
       " 130323843,\n",
       " 131096512,\n",
       " 131872229,\n",
       " 132651000,\n",
       " 133432831,\n",
       " 134217728,\n",
       " 135005697,\n",
       " 135796744,\n",
       " 136590875,\n",
       " 137388096,\n",
       " 138188413,\n",
       " 138991832,\n",
       " 139798359,\n",
       " 140608000,\n",
       " 141420761,\n",
       " 142236648,\n",
       " 143055667,\n",
       " 143877824,\n",
       " 144703125,\n",
       " 145531576,\n",
       " 146363183,\n",
       " 147197952,\n",
       " 148035889,\n",
       " 148877000,\n",
       " 149721291,\n",
       " 150568768,\n",
       " 151419437,\n",
       " 152273304,\n",
       " 153130375,\n",
       " 153990656,\n",
       " 154854153,\n",
       " 155720872,\n",
       " 156590819,\n",
       " 157464000,\n",
       " 158340421,\n",
       " 159220088,\n",
       " 160103007,\n",
       " 160989184,\n",
       " 161878625,\n",
       " 162771336,\n",
       " 163667323,\n",
       " 164566592,\n",
       " 165469149,\n",
       " 166375000,\n",
       " 167284151,\n",
       " 168196608,\n",
       " 169112377,\n",
       " 170031464,\n",
       " 170953875,\n",
       " 171879616,\n",
       " 172808693,\n",
       " 173741112,\n",
       " 174676879,\n",
       " 175616000,\n",
       " 176558481,\n",
       " 177504328,\n",
       " 178453547,\n",
       " 179406144,\n",
       " 180362125,\n",
       " 181321496,\n",
       " 182284263,\n",
       " 183250432,\n",
       " 184220009,\n",
       " 185193000,\n",
       " 186169411,\n",
       " 187149248,\n",
       " 188132517,\n",
       " 189119224,\n",
       " 190109375,\n",
       " 191102976,\n",
       " 192100033,\n",
       " 193100552,\n",
       " 194104539,\n",
       " 195112000,\n",
       " 196122941,\n",
       " 197137368,\n",
       " 198155287,\n",
       " 199176704,\n",
       " 200201625,\n",
       " 201230056,\n",
       " 202262003,\n",
       " 203297472,\n",
       " 204336469,\n",
       " 205379000,\n",
       " 206425071,\n",
       " 207474688,\n",
       " 208527857,\n",
       " 209584584,\n",
       " 210644875,\n",
       " 211708736,\n",
       " 212776173,\n",
       " 213847192,\n",
       " 214921799]"
      ]
     },
     "execution_count": 75,
     "metadata": {},
     "output_type": "execute_result"
    }
   ],
   "source": [
    "gencube(600)"
   ]
  },
  {
   "cell_type": "markdown",
   "id": "f877ff5c",
   "metadata": {},
   "source": [
    "*  Sometime when we have lot of data and when we perform operation on that data so to get that operation result instantally we use generator function"
   ]
  },
  {
   "cell_type": "code",
   "execution_count": null,
   "id": "dd67c8a6",
   "metadata": {},
   "outputs": [],
   "source": []
  }
 ],
 "metadata": {
  "kernelspec": {
   "display_name": "Python 3 (ipykernel)",
   "language": "python",
   "name": "python3"
  },
  "language_info": {
   "codemirror_mode": {
    "name": "ipython",
    "version": 3
   },
   "file_extension": ".py",
   "mimetype": "text/x-python",
   "name": "python",
   "nbconvert_exporter": "python",
   "pygments_lexer": "ipython3",
   "version": "3.9.13"
  }
 },
 "nbformat": 4,
 "nbformat_minor": 5
}
